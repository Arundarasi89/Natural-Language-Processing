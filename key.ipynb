{
 "cells": [
  {
   "cell_type": "code",
   "execution_count": null,
   "metadata": {},
   "outputs": [],
   "source": [
    "consumer_key = \"HfSVW6KJsxafE7koSJ1J9dwL5\"\n",
    "consumer_secret = \"zyfpsiiKzkW1VCCgdjxHUva4CpVq1G8786Ab14eMH7N8BmqPJ3\"\n",
    "access_token = \"1419916858317103104-sJCWiwC9uPUpv58SUiBDkzQODsJbnS\"\n",
    "access_token_secret = \"evLH3pm6GiZqOWOBqOLBXROzyBOxP6ClQZwWELqsVQJd0\""
   ]
  }
 ],
 "metadata": {
  "kernelspec": {
   "display_name": "Python 3",
   "language": "python",
   "name": "python3"
  },
  "language_info": {
   "codemirror_mode": {
    "name": "ipython",
    "version": 3
   },
   "file_extension": ".py",
   "mimetype": "text/x-python",
   "name": "python",
   "nbconvert_exporter": "python",
   "pygments_lexer": "ipython3",
   "version": "3.8.3"
  }
 },
 "nbformat": 4,
 "nbformat_minor": 4
}
