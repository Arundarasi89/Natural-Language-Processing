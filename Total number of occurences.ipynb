{
 "cells": [
  {
   "cell_type": "code",
   "execution_count": 10,
   "metadata": {},
   "outputs": [
    {
     "name": "stdout",
     "output_type": "stream",
     "text": [
      "Enter the filename:myfile.txt\n",
      "Enter word to check its number of occurences:paragraph\n",
      "['A', 'paragraph', 'is', 'a', 'series', 'of', 'related', 'sentences', 'developing', 'a', 'central', 'idea,', 'called', 'the', 'topic.', 'Try', 'to', 'think', 'about', 'paragraphs', 'in', 'terms', 'of', 'thematic', 'unity:', 'a', 'paragraph', 'is', 'a', 'sentence', 'or', 'a', 'group', 'of', 'sentences', 'that', 'supports', 'one', 'central,', 'unified', 'idea.', 'Paragraphs', 'add', 'one', 'idea', 'at', 'a', 'time', 'to', 'your', 'broader', 'argument.A', 'paragraph', 'is', 'a', 'self-contained', 'unit', 'of', 'discourse', 'in', 'writing', 'dealing', 'with', 'a', 'particular', 'point', 'or', 'idea.', 'A', 'paragraph', 'consists', 'of', 'one', 'or', 'more', 'sentences.', 'Though', 'not', 'required', 'by', 'the', 'syntax', 'of', 'any', 'language,', 'paragraphs', 'are', 'usually', 'an', 'expected', 'part', 'of', 'formal', 'writing,', 'used', 'to', 'organize', 'longer', 'prose.']\n",
      "[]\n",
      "total occurences of ' paragraph ' word:  4\n"
     ]
    }
   ],
   "source": [
    "#stores file in filename variable\n",
    "fname = input(\"Enter the filename:\")\n",
    "key = input(\"Enter word to check its number of occurences:\")\n",
    "#open a file in read, write or append mode\n",
    "#open(\"filename\") -> default read mode\n",
    "#open(\"filename\",\"type of mode\")\n",
    "try:\n",
    "    fhand = open(fname)\n",
    "    #empty dictionary\n",
    "    d1 = dict()\n",
    "    count = 0\n",
    "    for line in fhand:\n",
    "        words = line.split()\n",
    "        print(words)\n",
    "        for word in words:\n",
    "            if word==key:\n",
    "                count = count + 1   \n",
    "    print(\"total occurences of\",\"'\",key,\"'\",\"word: \", count)\n",
    "except:\n",
    "    print(\"File not found\")"
   ]
  }
 ],
 "metadata": {
  "kernelspec": {
   "display_name": "Python 3",
   "language": "python",
   "name": "python3"
  },
  "language_info": {
   "codemirror_mode": {
    "name": "ipython",
    "version": 3
   },
   "file_extension": ".py",
   "mimetype": "text/x-python",
   "name": "python",
   "nbconvert_exporter": "python",
   "pygments_lexer": "ipython3",
   "version": "3.8.3"
  }
 },
 "nbformat": 4,
 "nbformat_minor": 4
}
