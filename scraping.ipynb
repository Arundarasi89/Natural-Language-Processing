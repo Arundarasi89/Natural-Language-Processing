{
 "cells": [
  {
   "cell_type": "code",
   "execution_count": 103,
   "metadata": {},
   "outputs": [],
   "source": [
    "import snscrape.modules.twitter as sntwitter\n",
    "import pandas as pd\n",
    "import csv\n",
    "# Setting variables to be used below\n",
    "maxTweets = 3000\n",
    "\n",
    "# Creating list to append tweet data to\n",
    "tweets_list2 = []\n",
    "\n",
    "# Using TwitterSearchScraper to scrape data and append tweets to list\n",
    "for i,tweet in enumerate(sntwitter.TwitterSearchScraper('voterfraud since:2020-01-07 until:2020-01-10').get_items()):\n",
    "    if i>maxTweets:\n",
    "        break\n",
    "    tweets_list2.append([tweet.date, tweet.id, tweet.content, tweet.username])\n",
    "#csvFile = open('s.csv', 'a')\n",
    "#Use csv Writer\n",
    "#csvWriter = csv.writer(csvFile)\n",
    "# Creating a dataframe from the tweets list above\n",
    "df = pd.DataFrame(tweets_list2, columns=['Datetime', 'Tweet Id', 'Text', 'Username'])\n",
    "\n",
    "# Display first 5 entries from dataframe\n",
    "df.head()\n",
    "\n",
    "df.to_csv('voterfraud(6).csv', sep=',', index=False)"
   ]
  },
  {
   "cell_type": "code",
   "execution_count": 104,
   "metadata": {},
   "outputs": [
    {
     "data": {
      "text/plain": [
       "(1457, 4)"
      ]
     },
     "execution_count": 104,
     "metadata": {},
     "output_type": "execute_result"
    }
   ],
   "source": [
    "df.shape"
   ]
  },
  {
   "cell_type": "code",
   "execution_count": 102,
   "metadata": {},
   "outputs": [
    {
     "data": {
      "text/html": [
       "<div>\n",
       "<style scoped>\n",
       "    .dataframe tbody tr th:only-of-type {\n",
       "        vertical-align: middle;\n",
       "    }\n",
       "\n",
       "    .dataframe tbody tr th {\n",
       "        vertical-align: top;\n",
       "    }\n",
       "\n",
       "    .dataframe thead th {\n",
       "        text-align: right;\n",
       "    }\n",
       "</style>\n",
       "<table border=\"1\" class=\"dataframe\">\n",
       "  <thead>\n",
       "    <tr style=\"text-align: right;\">\n",
       "      <th></th>\n",
       "      <th>Datetime</th>\n",
       "      <th>Tweet Id</th>\n",
       "      <th>Text</th>\n",
       "      <th>Username</th>\n",
       "    </tr>\n",
       "  </thead>\n",
       "  <tbody>\n",
       "    <tr>\n",
       "      <th>0</th>\n",
       "      <td>2020-01-09 23:48:17+00:00</td>\n",
       "      <td>1215420054776492032</td>\n",
       "      <td>The Border Crisis – Christopher Oldcorn @pensi...</td>\n",
       "      <td>chrisoldcorn</td>\n",
       "    </tr>\n",
       "    <tr>\n",
       "      <th>1</th>\n",
       "      <td>2020-01-09 23:46:33+00:00</td>\n",
       "      <td>1215419620007518208</td>\n",
       "      <td>@LindseyGrahamSC @SpeakerPelosi @BernieSanders...</td>\n",
       "      <td>schutzlandscape</td>\n",
       "    </tr>\n",
       "    <tr>\n",
       "      <th>2</th>\n",
       "      <td>2020-01-09 23:41:55+00:00</td>\n",
       "      <td>1215418455437893633</td>\n",
       "      <td>⁦@PreetBharara⁩ to GA rep:  “No American is ‘i...</td>\n",
       "      <td>elsiekitty3</td>\n",
       "    </tr>\n",
       "    <tr>\n",
       "      <th>3</th>\n",
       "      <td>2020-01-09 23:37:39+00:00</td>\n",
       "      <td>1215417379338977280</td>\n",
       "      <td>Did the #Demonrats set new low bc they are rab...</td>\n",
       "      <td>MericaCpt</td>\n",
       "    </tr>\n",
       "    <tr>\n",
       "      <th>4</th>\n",
       "      <td>2020-01-09 23:30:37+00:00</td>\n",
       "      <td>1215415610882117632</td>\n",
       "      <td>Of course they did, surprise suprise... Good t...</td>\n",
       "      <td>TexanBeauty86</td>\n",
       "    </tr>\n",
       "  </tbody>\n",
       "</table>\n",
       "</div>"
      ],
      "text/plain": [
       "                   Datetime             Tweet Id  \\\n",
       "0 2020-01-09 23:48:17+00:00  1215420054776492032   \n",
       "1 2020-01-09 23:46:33+00:00  1215419620007518208   \n",
       "2 2020-01-09 23:41:55+00:00  1215418455437893633   \n",
       "3 2020-01-09 23:37:39+00:00  1215417379338977280   \n",
       "4 2020-01-09 23:30:37+00:00  1215415610882117632   \n",
       "\n",
       "                                                Text         Username  \n",
       "0  The Border Crisis – Christopher Oldcorn @pensi...     chrisoldcorn  \n",
       "1  @LindseyGrahamSC @SpeakerPelosi @BernieSanders...  schutzlandscape  \n",
       "2  ⁦@PreetBharara⁩ to GA rep:  “No American is ‘i...      elsiekitty3  \n",
       "3  Did the #Demonrats set new low bc they are rab...        MericaCpt  \n",
       "4  Of course they did, surprise suprise... Good t...    TexanBeauty86  "
      ]
     },
     "execution_count": 102,
     "metadata": {},
     "output_type": "execute_result"
    }
   ],
   "source": [
    "df.head(5)\n"
   ]
  }
 ],
 "metadata": {
  "kernelspec": {
   "display_name": "Python 3",
   "language": "python",
   "name": "python3"
  },
  "language_info": {
   "codemirror_mode": {
    "name": "ipython",
    "version": 3
   },
   "file_extension": ".py",
   "mimetype": "text/x-python",
   "name": "python",
   "nbconvert_exporter": "python",
   "pygments_lexer": "ipython3",
   "version": "3.8.3"
  }
 },
 "nbformat": 4,
 "nbformat_minor": 4
}
